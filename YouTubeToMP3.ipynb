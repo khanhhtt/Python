{
  "nbformat": 4,
  "nbformat_minor": 0,
  "metadata": {
    "colab": {
      "provenance": [],
      "authorship_tag": "ABX9TyP3Zk2PfwnzkcI/r8wqbWCO",
      "include_colab_link": true
    },
    "kernelspec": {
      "name": "python3",
      "display_name": "Python 3"
    },
    "language_info": {
      "name": "python"
    }
  },
  "cells": [
    {
      "cell_type": "markdown",
      "metadata": {
        "id": "view-in-github",
        "colab_type": "text"
      },
      "source": [
        "<a href=\"https://colab.research.google.com/github/khanhhtt/Python/blob/main/YouTubeToMP3.ipynb\" target=\"_parent\"><img src=\"https://colab.research.google.com/assets/colab-badge.svg\" alt=\"Open In Colab\"/></a>"
      ]
    },
    {
      "cell_type": "code",
      "execution_count": 1,
      "metadata": {
        "colab": {
          "base_uri": "https://localhost:8080/"
        },
        "id": "eRnNVpDr6vVd",
        "outputId": "0f97bb20-0b4b-4cea-e76f-13753e527b2f"
      },
      "outputs": [
        {
          "output_type": "stream",
          "name": "stdout",
          "text": [
            "Collecting yt_dlp\n",
            "  Downloading yt_dlp-2025.3.31-py3-none-any.whl.metadata (172 kB)\n",
            "\u001b[2K     \u001b[90m━━━━━━━━━━━━━━━━━━━━━━━━━━━━━━━━━━━━━━━━\u001b[0m \u001b[32m172.2/172.2 kB\u001b[0m \u001b[31m5.6 MB/s\u001b[0m eta \u001b[36m0:00:00\u001b[0m\n",
            "\u001b[?25hDownloading yt_dlp-2025.3.31-py3-none-any.whl (3.2 MB)\n",
            "\u001b[2K   \u001b[90m━━━━━━━━━━━━━━━━━━━━━━━━━━━━━━━━━━━━━━━━\u001b[0m \u001b[32m3.2/3.2 MB\u001b[0m \u001b[31m35.1 MB/s\u001b[0m eta \u001b[36m0:00:00\u001b[0m\n",
            "\u001b[?25hInstalling collected packages: yt_dlp\n",
            "Successfully installed yt_dlp-2025.3.31\n"
          ]
        }
      ],
      "source": [
        "import os\n",
        "!pip install yt_dlp\n",
        "from yt_dlp import YoutubeDL"
      ]
    },
    {
      "cell_type": "code",
      "source": [
        "# Playlist URL\n",
        "playlist_url = \"https://youtube.com/playlist?list=PLS1qGEdEAca2dgANlMAB_n1JLWv4WIsU8\"\n",
        "\n",
        "# Output directory\n",
        "output_dir = '/content/'\n",
        "os.makedirs(output_dir, exist_ok=True)\n",
        "\n",
        "# yt-dlp options (download best audio format, no conversion)\n",
        "ydl_opts = {\n",
        "    'format': 'bestaudio/best',\n",
        "    'outtmpl': os.path.join(output_dir, '%(playlist_index)s - %(title)s.%(ext)s'),\n",
        "    'noplaylist': False\n",
        "}\n",
        "\n",
        "# Download\n",
        "with YoutubeDL(ydl_opts) as ydl:\n",
        "    ydl.download([playlist_url])\n",
        "\n",
        "print(f\"Done! Files saved in: {os.path.abspath(output_dir)}\")"
      ],
      "metadata": {
        "colab": {
          "base_uri": "https://localhost:8080/"
        },
        "id": "Bk27Ttoy7SOW",
        "outputId": "b09fcc36-1caa-4048-9690-383a8487b71c"
      },
      "execution_count": 6,
      "outputs": [
        {
          "output_type": "stream",
          "name": "stdout",
          "text": [
            "[youtube:tab] Extracting URL: https://youtube.com/playlist?list=PLxrXZARlAfCbQFlv1ptySevyaqiIAG7V_&si=DRx7K_6O0v5YyIx_\n",
            "[youtube:tab] PLxrXZARlAfCbQFlv1ptySevyaqiIAG7V_: Downloading webpage\n",
            "[youtube:tab] PLxrXZARlAfCbQFlv1ptySevyaqiIAG7V_: Redownloading playlist API JSON with unavailable videos\n",
            "[download] Downloading playlist: TEDTalk\n",
            "[youtube:tab] PLxrXZARlAfCbQFlv1ptySevyaqiIAG7V_ page 1: Downloading API JSON\n"
          ]
        },
        {
          "output_type": "stream",
          "name": "stderr",
          "text": [
            "WARNING: [youtube:tab] Incomplete data received. Retrying (1/3)...\n"
          ]
        },
        {
          "output_type": "stream",
          "name": "stdout",
          "text": [
            "[youtube:tab] PLxrXZARlAfCbQFlv1ptySevyaqiIAG7V_ page 1: Downloading API JSON\n"
          ]
        },
        {
          "output_type": "stream",
          "name": "stderr",
          "text": [
            "WARNING: [youtube:tab] Incomplete data received. Retrying (2/3)...\n"
          ]
        },
        {
          "output_type": "stream",
          "name": "stdout",
          "text": [
            "[youtube:tab] PLxrXZARlAfCbQFlv1ptySevyaqiIAG7V_ page 1: Downloading API JSON\n"
          ]
        },
        {
          "output_type": "stream",
          "name": "stderr",
          "text": [
            "WARNING: [youtube:tab] Incomplete data received. Retrying (3/3)...\n"
          ]
        },
        {
          "output_type": "stream",
          "name": "stdout",
          "text": [
            "[youtube:tab] PLxrXZARlAfCbQFlv1ptySevyaqiIAG7V_ page 1: Downloading API JSON\n"
          ]
        },
        {
          "output_type": "stream",
          "name": "stderr",
          "text": [
            "WARNING: [youtube:tab] Incomplete data received. Giving up after 3 retries\n"
          ]
        },
        {
          "output_type": "stream",
          "name": "stdout",
          "text": [
            "[youtube:tab] Playlist TEDTalk: Downloading 2 items of 2\n",
            "[download] Downloading item 1 of 2\n",
            "[youtube] Extracting URL: https://www.youtube.com/watch?v=LpSDuDIaBGk\n",
            "[youtube] LpSDuDIaBGk: Downloading webpage\n",
            "[youtube] LpSDuDIaBGk: Downloading tv client config\n",
            "[youtube] LpSDuDIaBGk: Downloading player 6450230e-main\n",
            "[youtube] LpSDuDIaBGk: Downloading tv player API JSON\n",
            "[youtube] LpSDuDIaBGk: Downloading ios player API JSON\n",
            "[youtube] LpSDuDIaBGk: Downloading m3u8 information\n",
            "[info] LpSDuDIaBGk: Downloading 1 format(s): 251\n",
            "[download] Destination: /content/1 - Why Social Health Is Key to Happiness and Longevity ｜ Kasley Killam ｜ TED.webm\n",
            "[download] 100% of    7.23MiB in 00:00:00 at 27.83MiB/s  \n",
            "[download] Downloading item 2 of 2\n",
            "[youtube] Extracting URL: https://www.youtube.com/watch?v=P6FORpg0KVo\n",
            "[youtube] P6FORpg0KVo: Downloading webpage\n",
            "[youtube] P6FORpg0KVo: Downloading tv client config\n",
            "[youtube] P6FORpg0KVo: Downloading tv player API JSON\n",
            "[youtube] P6FORpg0KVo: Downloading ios player API JSON\n",
            "[youtube] P6FORpg0KVo: Downloading m3u8 information\n",
            "[info] P6FORpg0KVo: Downloading 1 format(s): 251\n",
            "[download] Destination: /content/2 - How to Make Learning as Addictive as Social Media ｜ Duolingo's Luis Von Ahn ｜ TED.webm\n",
            "[download] 100% of   10.21MiB in 00:00:00 at 34.23MiB/s  \n",
            "[download] Finished downloading playlist: TEDTalk\n",
            "Done! Files saved in: /content\n"
          ]
        }
      ]
    }
  ]
}